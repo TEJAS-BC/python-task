{
 "cells": [
  {
   "cell_type": "code",
   "execution_count": 3,
   "metadata": {},
   "outputs": [],
   "source": [
    "# Write a python function to accept user inputs, store it in a list and compute the highest number\n",
    "#out of it. User can enter as many numbers as he/she wants.\n",
    "#Take care of following things:\n",
    "#1. Input must be entered by user\n",
    "#2. Exception handling\n",
    "#3. Null values\n",
    "#4. Errors\n",
    "#5. Datatypes\n",
    "#Output of the function must be a number.\n",
    "#It should accept correct values and for incorrect values, an error message must be displayed to the user."
   ]
  },
  {
   "cell_type": "code",
   "execution_count": 4,
   "metadata": {},
   "outputs": [
    {
     "name": "stdout",
     "output_type": "stream",
     "text": [
      "enter the number of values\n",
      "10\n",
      "45\n",
      "36\n",
      "76\n",
      "477\n",
      "56\n",
      "34\n",
      "r\n",
      "the value entered is not an integer\n",
      "2.2\n",
      "the value entered is not an integer\n",
      "4\n",
      "56\n",
      "[45, 36, 76, 477, 56, 34, 4, 56]\n",
      "477\n"
     ]
    }
   ],
   "source": [
    "list = []\n",
    "n = int(input(\"enter the number of values\\n\"))\n",
    "\n",
    "for i in range(0,n):\n",
    "    try:\n",
    "        values = int(input())\n",
    "        list.append(values)\n",
    "    except:\n",
    "        print(\"the value entered is not an integer\")\n",
    "\n",
    "print(list)\n",
    "\n",
    "print(max(list))"
   ]
  },
  {
   "cell_type": "code",
   "execution_count": null,
   "metadata": {},
   "outputs": [],
   "source": []
  }
 ],
 "metadata": {
  "kernelspec": {
   "display_name": "Python 3",
   "language": "python",
   "name": "python3"
  },
  "language_info": {
   "codemirror_mode": {
    "name": "ipython",
    "version": 3
   },
   "file_extension": ".py",
   "mimetype": "text/x-python",
   "name": "python",
   "nbconvert_exporter": "python",
   "pygments_lexer": "ipython3",
   "version": "3.8.5"
  }
 },
 "nbformat": 4,
 "nbformat_minor": 4
}
