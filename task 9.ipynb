{
 "cells": [
  {
   "cell_type": "code",
   "execution_count": 2,
   "metadata": {},
   "outputs": [],
   "source": [
    "#Ask 2 numbers from users and store it in num1 and num2\n",
    "#Ask user to press 1 for addition,2 for subtraction,3 for multiplication and 4 for division\n",
    "#based on number given by user do the math operation"
   ]
  },
  {
   "cell_type": "code",
   "execution_count": 16,
   "metadata": {},
   "outputs": [
    {
     "name": "stdout",
     "output_type": "stream",
     "text": [
      "enter first number6\n",
      "enter second number5\n",
      "press 1 for addition,2 for subtraction,3 for multiplication and 4 for division\n",
      "enter any of the numbers 1,2,3,4\n",
      "4\n",
      "result = 1.2\n"
     ]
    }
   ],
   "source": [
    "num1 = int(input(\"enter first number\"))\n",
    "num2 = int(input(\"enter second number\"))\n",
    "\n",
    "print(\"press 1 for addition,2 for subtraction,3 for multiplication and 4 for division\")\n",
    "digit = input(\"enter any of the numbers 1,2,3,4\\n\")\n",
    "\n",
    "result = 0\n",
    "if digit == \"1\":\n",
    "    result = num1 + num2\n",
    "elif digit == \"2\":\n",
    "    result = num1 - num2\n",
    "elif digit == \"3\":\n",
    "    result = num1 * num2\n",
    "elif digit == \"4\":\n",
    "    result = num1/num2\n",
    "else:\n",
    "    print(\"input character is not recognized\")\n",
    "    \n",
    "print(\"result\", \"=\" ,result )\n"
   ]
  },
  {
   "cell_type": "code",
   "execution_count": null,
   "metadata": {},
   "outputs": [],
   "source": []
  }
 ],
 "metadata": {
  "kernelspec": {
   "display_name": "Python 3",
   "language": "python",
   "name": "python3"
  },
  "language_info": {
   "codemirror_mode": {
    "name": "ipython",
    "version": 3
   },
   "file_extension": ".py",
   "mimetype": "text/x-python",
   "name": "python",
   "nbconvert_exporter": "python",
   "pygments_lexer": "ipython3",
   "version": "3.8.5"
  }
 },
 "nbformat": 4,
 "nbformat_minor": 4
}
